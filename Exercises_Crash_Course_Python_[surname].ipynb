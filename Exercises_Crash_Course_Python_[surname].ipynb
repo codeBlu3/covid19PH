{
 "cells": [
  {
   "cell_type": "markdown",
   "metadata": {
    "ExecuteTime": {
     "end_time": "2020-04-12T08:49:14.730325Z",
     "start_time": "2020-04-12T08:49:14.719332Z"
    }
   },
   "source": [
    "## 1. Getting Started with Python "
   ]
  },
  {
   "cell_type": "markdown",
   "metadata": {},
   "source": [
    "### Exercise 1.1\n",
    "- Write a function named `area_circle` that computes for the area of a circle given a nonnegative diameter `d` as input.\\\n",
    "- Use $\\pi \\approx 3.14$ \\\n",
    "- Evaluate the function for d = 1 and d = 4.5"
   ]
  },
  {
   "cell_type": "code",
   "execution_count": null,
   "metadata": {},
   "outputs": [],
   "source": [
    "#write function here\n"
   ]
  },
  {
   "cell_type": "code",
   "execution_count": null,
   "metadata": {},
   "outputs": [],
   "source": [
    "#evaluate area_circle value for d = 2 \n"
   ]
  },
  {
   "cell_type": "code",
   "execution_count": null,
   "metadata": {},
   "outputs": [],
   "source": [
    "#evaluate area_circle value for d = 4.5 \n",
    "\n"
   ]
  },
  {
   "cell_type": "markdown",
   "metadata": {},
   "source": [
    "### Exercise 1.2\n",
    "- Write a function named `take_home_pay` that computes for the remaining salary amount given inputs nonnegative base salary `base_salary` and tax rate `tax_rate` in percentage\n",
    "- Evaluate the function for a base salary of 25,000 and tax rate 12%"
   ]
  },
  {
   "cell_type": "code",
   "execution_count": null,
   "metadata": {},
   "outputs": [],
   "source": [
    "#write function here\n"
   ]
  },
  {
   "cell_type": "code",
   "execution_count": null,
   "metadata": {},
   "outputs": [],
   "source": [
    "#output take_home_pay value for base salary 25,00 and tax rate 12%\n"
   ]
  },
  {
   "cell_type": "markdown",
   "metadata": {},
   "source": [
    "## 2. Strings and Lists"
   ]
  },
  {
   "cell_type": "markdown",
   "metadata": {},
   "source": [
    "### Exercise 2.1\n",
    "\n",
    "*Get top 3*. Using list slicing and the `sorted` method, write code to get the top 3 grades declared as elements in the list variables below.\n"
   ]
  },
  {
   "cell_type": "code",
   "execution_count": null,
   "metadata": {},
   "outputs": [],
   "source": [
    "scores1 = [90,81,71,94,86,85,90,95,96]\n",
    "#write code below:\n"
   ]
  },
  {
   "cell_type": "markdown",
   "metadata": {},
   "source": [
    "*Get bottom 3*. Now get the bottom 3 scores"
   ]
  },
  {
   "cell_type": "code",
   "execution_count": null,
   "metadata": {},
   "outputs": [],
   "source": []
  },
  {
   "cell_type": "markdown",
   "metadata": {},
   "source": [
    "### Exercise 2.2\n",
    "*Generating acronyms*. Using string operations, write code that will construct the acronym of the following organization names declared as string variables\\\n",
    "i.e. get the first letters of each word, concatenate and change to uppercase"
   ]
  },
  {
   "cell_type": "code",
   "execution_count": null,
   "metadata": {},
   "outputs": [],
   "source": [
    "org1 = 'world health organization'\n",
    "# write code to output acronym of org1 below:\n",
    "\n"
   ]
  },
  {
   "cell_type": "code",
   "execution_count": null,
   "metadata": {},
   "outputs": [],
   "source": [
    "org2 = 'united nations educational scientific and cultural organization'\n",
    "# Ignoring the connector 'and', write code to output acronym of org2 below:\n",
    "\n"
   ]
  },
  {
   "cell_type": "markdown",
   "metadata": {},
   "source": [
    "## 3. Control Structures"
   ]
  },
  {
   "cell_type": "markdown",
   "metadata": {},
   "source": [
    "### Exercise 3.1 \n",
    "As in Exercise 1.1 , write a function named `area_circle` that computes for the area of a circle. given a diameter `d` as input,\\\n",
    "but now implement a `if` condition to catch negative d values. \n",
    "- function must print \"Diameter must be nonnegative\" if d < 0\n",
    "- Use $\\pi \\approx 3.14$ \\\n",
    "- Evaluate the function for d = 1,d = 4.5, d = -2"
   ]
  },
  {
   "cell_type": "code",
   "execution_count": null,
   "metadata": {},
   "outputs": [],
   "source": [
    "#write function here\n"
   ]
  },
  {
   "cell_type": "code",
   "execution_count": null,
   "metadata": {},
   "outputs": [],
   "source": [
    "#evaluate area_circle value for d = 1 \n"
   ]
  },
  {
   "cell_type": "code",
   "execution_count": null,
   "metadata": {},
   "outputs": [],
   "source": [
    "#evaluate area_circle value for d = 4.5 \n"
   ]
  },
  {
   "cell_type": "code",
   "execution_count": null,
   "metadata": {},
   "outputs": [],
   "source": [
    "#evaluate area_circle value for d = -2\n"
   ]
  },
  {
   "cell_type": "markdown",
   "metadata": {},
   "source": [
    "### Exercise 3.2\n",
    "Write a function called `cumsum` that takes a list of numbers and returns the cumulative\n",
    "sum; that is, a new list where the ith element is the sum of the first i + 1 elements from the\n",
    "original list.\n",
    "\n",
    "For example:\n",
    "```python\n",
    "t = [1, 2, 3]\n",
    "cumsum(t)\n",
    "[1, 3, 6]\n",
    "```"
   ]
  },
  {
   "cell_type": "code",
   "execution_count": null,
   "metadata": {},
   "outputs": [],
   "source": [
    "#write function here\n"
   ]
  },
  {
   "cell_type": "code",
   "execution_count": null,
   "metadata": {},
   "outputs": [],
   "source": [
    "#test for this \n",
    "t = [5,6,8,9,0,1,3]\n",
    "cumsum(t)"
   ]
  },
  {
   "cell_type": "markdown",
   "metadata": {},
   "source": [
    "### Exercise 3.3\n",
    "- Write a function `my_max` that takes a list of integers or floats as parameter and returns the max element in the list.\n",
    "- DO NOT use the built-in max function\n"
   ]
  },
  {
   "cell_type": "code",
   "execution_count": null,
   "metadata": {},
   "outputs": [],
   "source": [
    "#write function here\n"
   ]
  }
 ],
 "metadata": {
  "kernelspec": {
   "display_name": "Python 3",
   "language": "python",
   "name": "python3"
  },
  "language_info": {
   "codemirror_mode": {
    "name": "ipython",
    "version": 3
   },
   "file_extension": ".py",
   "mimetype": "text/x-python",
   "name": "python",
   "nbconvert_exporter": "python",
   "pygments_lexer": "ipython3",
   "version": "3.7.3"
  }
 },
 "nbformat": 4,
 "nbformat_minor": 2
}
