{
 "cells": [
  {
   "cell_type": "markdown",
   "metadata": {},
   "source": [
    "# Introduction to Python & Jupyter Notebook\n"
   ]
  },
  {
   "cell_type": "markdown",
   "metadata": {},
   "source": [
    "## 1. What is a Jupyter Notebook?\n",
    "\n",
    "Jupyter is a web-based interactive development environment that supports multiple programming languages\n",
    "(Ju-Julia, Py-Python, R- R)\n",
    "\n",
    "The interactive environment that Jupyter provides enables students, scientists, and researchers to create reproducible analysis and formulate a story within a single document.\n",
    "\n",
    "You may a look at this example of a completed Jupyter Notebook: [Example Notebook](http://nbviewer.jupyter.org/github/cossatot/lanf_earthquake_likelihood/blob/master/notebooks/lanf_manuscript_notebook.ipynb)\n",
    "\n",
    "We will try to build one of our own in this example"
   ]
  },
  {
   "cell_type": "markdown",
   "metadata": {},
   "source": [
    "### 1.1. Cells: Building Blocks of a Jupyter Notebook\n",
    "\n",
    "Jupyter notebooks are composed of cells that run sections of code at a time.\n",
    "There are 4 types of cells:  Code, Markdown, Raw NBConvert and Heading (the latter 2 fell out of use)\n",
    "\n",
    "\n"
   ]
  },
  {
   "cell_type": "markdown",
   "metadata": {
    "ExecuteTime": {
     "end_time": "2020-04-12T02:44:20.281417Z",
     "start_time": "2020-04-12T02:44:20.260427Z"
    }
   },
   "source": [
    "#### 1.1.2 Code cell\n",
    "The cell below is a code type cell. A code type cell runs code written in the specified programming language when you launched this notebook. It is used in the same way as the classic command line interface.\n",
    "It runs the python code `print()`, which outputs whats inside the parenthesis below the cell area."
   ]
  },
  {
   "cell_type": "code",
   "execution_count": null,
   "metadata": {
    "ExecuteTime": {
     "end_time": "2020-04-12T02:44:36.372237Z",
     "start_time": "2020-04-12T02:44:36.352248Z"
    }
   },
   "outputs": [],
   "source": [
    "print('This is a code cell.')"
   ]
  },
  {
   "cell_type": "markdown",
   "metadata": {},
   "source": [
    "### 1.1.3. Markdown cell\n",
    "The cell below is a markdown type cell. Notice how its less indented than a code cell. It also doesnt have a play icon to its left.\n",
    "\n",
    "Markdown cells do not contain python code. Instead, they hold text annotations to better present and organize your code.  \n",
    "\n",
    "\n",
    "Try it out! Run the markdown cell below by clicking inside the rectangle and pressing 'Shift + Enter'"
   ]
  },
  {
   "cell_type": "markdown",
   "metadata": {},
   "source": [
    "This is a markdown cell."
   ]
  },
  {
   "cell_type": "markdown",
   "metadata": {},
   "source": [
    "Text generated using Markdown cells can be rendered in various formatting styles. This is made possible using the Markup language, which uses keyboard symbols to specify formatting\n",
    "\n",
    "Try it out! Run the markdown cell below by clicking inside the rectangle and pressing 'Shift + Enter'                                                             "
   ]
  },
  {
   "cell_type": "markdown",
   "metadata": {},
   "source": [
    "Headers:\n",
    "\n",
    "# H1\n",
    "## H2\n",
    "### H3\n",
    "#### H4\n",
    "##### H5\n",
    "###### H6"
   ]
  },
  {
   "cell_type": "markdown",
   "metadata": {},
   "source": [
    "Text modifications:\n",
    "\n",
    "Emphasis, aka italics, with *asterisks* or _underscores_.\n",
    "\n",
    "Strong emphasis, aka bold, with **asterisks** or __underscores__.\n",
    "\n",
    "Combined emphasis with **asterisks and _underscores_**.\n",
    "\n",
    "Strikethrough uses two tildes. ~~Scratch this.~~"
   ]
  },
  {
   "cell_type": "markdown",
   "metadata": {},
   "source": [
    "To look into more examples of Markdown syntax and features such as tables, images, etc. head to the following link: [Markdown Reference](https://github.com/adam-p/markdown-here/wiki/Markdown-Cheatsheet)"
   ]
  },
  {
   "cell_type": "markdown",
   "metadata": {
    "ExecuteTime": {
     "end_time": "2020-04-11T06:45:12.020953Z",
     "start_time": "2020-04-11T06:45:12.001991Z"
    }
   },
   "source": [
    "## 2. Getting Started with Python\n",
    "\n",
    "Python and other programs arent called \"languages\" if they arent patterned best learned like human language!\n",
    "\n",
    "Think of it as a way of communicating with your computer to make it do whatever you want.\n",
    "\n",
    "Here are a few introductory phrases to help you get started.\n"
   ]
  },
  {
   "cell_type": "markdown",
   "metadata": {},
   "source": [
    "### 2.1. Basic Arithmetic\n",
    "\n",
    "Essentially, Python is a complex calculator capable of many, many complicated tasks.\n",
    "\n",
    "All these are built from our well known elementary operations.\n",
    "\n",
    "Operators +, -, * and / work just like in most other languages; parentheses can be used for grouping."
   ]
  },
  {
   "cell_type": "code",
   "execution_count": null,
   "metadata": {
    "ExecuteTime": {
     "end_time": "2020-04-11T08:57:58.703062Z",
     "start_time": "2020-04-11T08:57:58.659117Z"
    }
   },
   "outputs": [],
   "source": [
    "1 + 1   # because Python ignores whitespace, \"1+1\" works too "
   ]
  },
  {
   "cell_type": "code",
   "execution_count": null,
   "metadata": {
    "ExecuteTime": {
     "end_time": "2020-04-11T08:58:10.416433Z",
     "start_time": "2020-04-11T08:58:10.399437Z"
    }
   },
   "outputs": [],
   "source": [
    "1 + 2 * 3     # * has precedence over +"
   ]
  },
  {
   "cell_type": "code",
   "execution_count": null,
   "metadata": {
    "ExecuteTime": {
     "end_time": "2020-04-11T08:58:22.949264Z",
     "start_time": "2020-04-11T08:58:22.932273Z"
    }
   },
   "outputs": [],
   "source": [
    "(1 + 2) * 3\n",
    "8 - 6"
   ]
  },
  {
   "cell_type": "markdown",
   "metadata": {},
   "source": [
    "- Notebook shows only the last statement in each cell. To inspect all of them, we may use `print()`:"
   ]
  },
  {
   "cell_type": "code",
   "execution_count": null,
   "metadata": {
    "ExecuteTime": {
     "end_time": "2020-04-11T09:00:25.376166Z",
     "start_time": "2020-04-11T09:00:25.347190Z"
    }
   },
   "outputs": [],
   "source": [
    "print((1 + 2) * 3)\n",
    "print(8 - 5)"
   ]
  },
  {
   "cell_type": "markdown",
   "metadata": {},
   "source": [
    "Python arithmetic distinguishes whole numbers or **integers** from those with decimals, called **float** numbers.\\\n",
    "See how this plays out, especially in division."
   ]
  },
  {
   "cell_type": "code",
   "execution_count": null,
   "metadata": {
    "ExecuteTime": {
     "end_time": "2020-04-11T14:23:31.880509Z",
     "start_time": "2020-04-11T14:23:31.856523Z"
    }
   },
   "outputs": [],
   "source": [
    "print(1 + -5)   # int + int\n",
    "print(1. + -5)  # float + int\n",
    "print(2 * 5)   # int * int \n",
    "print(2 * 5.0) # float * int "
   ]
  },
  {
   "cell_type": "code",
   "execution_count": null,
   "metadata": {
    "ExecuteTime": {
     "end_time": "2020-04-11T09:04:59.965559Z",
     "start_time": "2020-04-11T09:04:59.949568Z"
    }
   },
   "outputs": [],
   "source": [
    "print(17 / 3)     # int / int -> float\n",
    "print(17 // 3)    # floor division\n",
    "print(17.0 // 3)  # return float if one of the values is float \n",
    "print(17 % 3)     # remainder\n",
    "print(2 ** 7)     # 2 to the power of 7"
   ]
  },
  {
   "cell_type": "markdown",
   "metadata": {},
   "source": [
    "### 2.2. Variables\n",
    "\n",
    "Simply put, variables are containers to store values.\n",
    "Variables are declared to avoid having to re-type a long expression, or to keep a value so the computer doesn’t have to recompute it.  \n",
    "\n",
    "The equal sign \"`=`\" is used to assign a value to a variable."
   ]
  },
  {
   "cell_type": "code",
   "execution_count": null,
   "metadata": {
    "ExecuteTime": {
     "end_time": "2020-04-11T09:33:53.881478Z",
     "start_time": "2020-04-11T09:33:53.869485Z"
    }
   },
   "outputs": [],
   "source": [
    "tax = 12.5 / 100   # An “assignment statement”\n",
    "price = 100.50"
   ]
  },
  {
   "cell_type": "markdown",
   "metadata": {},
   "source": [
    "Notebook prints nothing for assignments, as we see from above."
   ]
  },
  {
   "cell_type": "code",
   "execution_count": null,
   "metadata": {
    "ExecuteTime": {
     "end_time": "2020-04-11T09:33:55.351834Z",
     "start_time": "2020-04-11T09:33:55.336842Z"
    }
   },
   "outputs": [],
   "source": [
    "price * tax"
   ]
  },
  {
   "cell_type": "markdown",
   "metadata": {},
   "source": [
    "**Naming convention**\n",
    "\n",
    "- Variable names in Python should start with letters, and can contain any number of letters, digits, and  _.\n",
    "\n",
    "- Python names are case sensitive.  This applies both to variable names and to function names imported from modules.\n",
    "\n",
    "- By convention, Python variables usually start with lower-case letters. \n",
    "\n",
    "- Variables should have descriptive names; for multi-word names, separate the words by underscores.\n",
    "\n",
    " - Good names:  initial_price, my_income_tax, discounted_price2\n",
    " \n",
    " - One-letter names are used in certain circumstances - e.g. i, j, k when used as indexes - but are otherwise frowned upon.\n",
    " \n",
    "- Certain words are not allowed to be variable names. These words are reserved as python built-in functions \\\n",
    "They will show up as green bold-faced text as soon as you type them (e.g. if, try, while)"
   ]
  },
  {
   "cell_type": "markdown",
   "metadata": {},
   "source": [
    "### 2.3. **Built-in and User-defined Functions**\n",
    "\n",
    "- Functions in programming are like functions in math. They take in input, run them through a series of instructions, and returns an output\n",
    "- For example, the built-in function `abs` takes the absolute value of a number"
   ]
  },
  {
   "cell_type": "code",
   "execution_count": null,
   "metadata": {
    "ExecuteTime": {
     "end_time": "2020-04-11T14:34:00.133908Z",
     "start_time": "2020-04-11T14:34:00.118918Z"
    }
   },
   "outputs": [],
   "source": [
    "print(abs(-1.0))\n",
    "print(abs(-1))"
   ]
  },
  {
   "cell_type": "markdown",
   "metadata": {},
   "source": [
    "- The following user-defined function takes a number $x$ and returns $x^2 + x^3$."
   ]
  },
  {
   "cell_type": "code",
   "execution_count": null,
   "metadata": {
    "ExecuteTime": {
     "end_time": "2020-04-11T11:13:47.445929Z",
     "start_time": "2020-04-11T11:13:47.430937Z"
    }
   },
   "outputs": [],
   "source": [
    "def add_two_powers(x):\n",
    "    result = x**2 + x**3\n",
    "    return result"
   ]
  },
  {
   "cell_type": "markdown",
   "metadata": {},
   "source": [
    "- The keyword **def** introduces a function definition. It is followed by the function name and a parenthesized list of parameters, called the function **arguments** \n",
    "- The statements in the body of the function start at the next line, and must be indented.\n",
    "- The function ends with the keyword `return` which specifies the variable it outputs\n",
    "\n",
    "Heres how to use it:"
   ]
  },
  {
   "cell_type": "code",
   "execution_count": null,
   "metadata": {
    "ExecuteTime": {
     "end_time": "2020-04-11T11:14:50.443831Z",
     "start_time": "2020-04-11T11:14:50.428838Z"
    }
   },
   "outputs": [],
   "source": [
    "add_two_powers(4)"
   ]
  },
  {
   "cell_type": "markdown",
   "metadata": {},
   "source": [
    "A function can take in one or more arguments, or in some cases, none at all. \\\n",
    "For brevity, a function could also be written with a mathematical expression after 'return' "
   ]
  },
  {
   "cell_type": "code",
   "execution_count": null,
   "metadata": {
    "ExecuteTime": {
     "end_time": "2020-04-11T13:36:59.000984Z",
     "start_time": "2020-04-11T13:36:58.969008Z"
    }
   },
   "outputs": [],
   "source": [
    "def area_triangle(side1, side2):\n",
    "    return 0.5 * side1 * side2"
   ]
  },
  {
   "cell_type": "code",
   "execution_count": null,
   "metadata": {
    "ExecuteTime": {
     "end_time": "2020-04-11T13:36:59.297260Z",
     "start_time": "2020-04-11T13:36:59.281268Z"
    }
   },
   "outputs": [],
   "source": [
    "area_triangle(3,4)"
   ]
  },
  {
   "cell_type": "markdown",
   "metadata": {},
   "source": [
    "### 2.4. More functions using the `math` module"
   ]
  },
  {
   "cell_type": "markdown",
   "metadata": {},
   "source": [
    "Thankfully, through the efforts of many developers, we often dont need to write our own functions from scratch. \n",
    "Most of the basic and most used ones are already available in pre-written code called **modules**.\n",
    "\n",
    "The Anaconda installer already includes some frequently used modules in its Python installation.\n",
    " \n",
    "The `math` module is a popular one. You can use it by using the `import` keyword"
   ]
  },
  {
   "cell_type": "code",
   "execution_count": null,
   "metadata": {
    "ExecuteTime": {
     "end_time": "2020-04-11T14:03:01.879099Z",
     "start_time": "2020-04-11T14:03:01.848116Z"
    }
   },
   "outputs": [],
   "source": [
    "import math"
   ]
  },
  {
   "cell_type": "markdown",
   "metadata": {},
   "source": [
    " You can use the functions in a module by importing the module and using its name plus the function’s name:"
   ]
  },
  {
   "cell_type": "code",
   "execution_count": null,
   "metadata": {
    "ExecuteTime": {
     "end_time": "2020-04-11T14:07:37.301941Z",
     "start_time": "2020-04-11T14:07:37.281951Z"
    }
   },
   "outputs": [],
   "source": [
    "import math          # import the math module\n",
    "math.sqrt(5)    # factorial of 5"
   ]
  },
  {
   "cell_type": "code",
   "execution_count": null,
   "metadata": {
    "ExecuteTime": {
     "end_time": "2020-04-11T14:07:38.200425Z",
     "start_time": "2020-04-11T14:07:38.180438Z"
    }
   },
   "outputs": [],
   "source": [
    "from math import sqrt # import only the factorial function from math\n",
    "sqrt(5)        # no module name"
   ]
  },
  {
   "cell_type": "code",
   "execution_count": null,
   "metadata": {
    "ExecuteTime": {
     "end_time": "2020-04-11T14:07:38.802082Z",
     "start_time": "2020-04-11T14:07:38.784092Z"
    }
   },
   "outputs": [],
   "source": [
    "from math import *  # this imports all contents of math\n",
    "sqrt(5)        # no module name"
   ]
  },
  {
   "cell_type": "markdown",
   "metadata": {},
   "source": [
    "To find the function you need, you might need the **documentation**:\n",
    "\n",
    " - Built-in functions:  [https://docs.python.org/3.6/library/functions.html](https://docs.python.org/3.6/library/functions.html)\n",
    " - Math module:  [https://docs.python.org/3.6/library/math.html](https://docs.python.org/3.6/library/math.html)\n",
    " - Google is your friend!\n",
    " - And also the Tab key"
   ]
  },
  {
   "cell_type": "markdown",
   "metadata": {},
   "source": [
    "### 2.5. Boolean type and Boolean operations\n",
    "\n",
    "- Conditions can be combined using **`and`**, **`or`**, and **`not`**:\n",
    " - a **and** b: return True if both a and b are True\n",
    " - a **or** b: return True if at least one is True\n",
    " - **not** a: return True if a is False"
   ]
  },
  {
   "cell_type": "code",
   "execution_count": null,
   "metadata": {},
   "outputs": [],
   "source": [
    "#or\n",
    "print(True or True)\n",
    "print(True or False)\n",
    "print(False or False)"
   ]
  },
  {
   "cell_type": "code",
   "execution_count": null,
   "metadata": {},
   "outputs": [],
   "source": [
    "#and\n",
    "print(True and True)\n",
    "print(True and False)\n",
    "print(False and False)"
   ]
  },
  {
   "cell_type": "code",
   "execution_count": null,
   "metadata": {},
   "outputs": [],
   "source": [
    "not True"
   ]
  },
  {
   "cell_type": "markdown",
   "metadata": {},
   "source": [
    "- The Boolean type refers to one of the truth values **`True`** or **`False`**.\n",
    "- There are built-in operators and functions that return booleans:\n",
    " - Arithmetic comparison operators: \n",
    "  - `==` - equal to\n",
    "  - `!=` - not equal to\n",
    "  - `>`  - greater than\n",
    "  - `<`  - less than\n",
    "  - `>=` - greater than or equal to\n",
    "  - `<=` - less than or equal to"
   ]
  },
  {
   "cell_type": "code",
   "execution_count": null,
   "metadata": {
    "ExecuteTime": {
     "end_time": "2020-04-11T10:37:51.587021Z",
     "start_time": "2020-04-11T10:37:51.576039Z"
    }
   },
   "outputs": [],
   "source": [
    "x = 6\n"
   ]
  },
  {
   "cell_type": "code",
   "execution_count": null,
   "metadata": {
    "ExecuteTime": {
     "end_time": "2020-04-11T10:37:52.157214Z",
     "start_time": "2020-04-11T10:37:52.137233Z"
    }
   },
   "outputs": [],
   "source": [
    "x > 5 "
   ]
  },
  {
   "cell_type": "code",
   "execution_count": null,
   "metadata": {
    "ExecuteTime": {
     "end_time": "2020-04-11T10:37:52.969054Z",
     "start_time": "2020-04-11T10:37:52.950064Z"
    }
   },
   "outputs": [],
   "source": [
    "x <= 4"
   ]
  },
  {
   "cell_type": "code",
   "execution_count": null,
   "metadata": {
    "ExecuteTime": {
     "end_time": "2020-04-11T10:38:29.097606Z",
     "start_time": "2020-04-11T10:38:29.079615Z"
    }
   },
   "outputs": [],
   "source": [
    "(x >= 5) and (x < 7)"
   ]
  },
  {
   "cell_type": "markdown",
   "metadata": {},
   "source": [
    "The boolean `True` is also equivalent to the integer 1 and `False` to integer 0, so you may treat them  as if you are doing normal numerical operations"
   ]
  },
  {
   "cell_type": "code",
   "execution_count": null,
   "metadata": {},
   "outputs": [],
   "source": [
    "True == 1"
   ]
  },
  {
   "cell_type": "code",
   "execution_count": null,
   "metadata": {},
   "outputs": [],
   "source": [
    "False == 0"
   ]
  },
  {
   "cell_type": "code",
   "execution_count": null,
   "metadata": {
    "ExecuteTime": {
     "end_time": "2020-04-11T10:40:25.141160Z",
     "start_time": "2020-04-11T10:40:25.126173Z"
    }
   },
   "outputs": [],
   "source": [
    "1 + True"
   ]
  },
  {
   "cell_type": "markdown",
   "metadata": {},
   "source": [
    "Defining boolean functions is no different from defining any other kind of functions."
   ]
  },
  {
   "cell_type": "code",
   "execution_count": null,
   "metadata": {
    "ExecuteTime": {
     "end_time": "2020-04-11T15:03:49.441513Z",
     "start_time": "2020-04-11T15:03:49.421525Z"
    }
   },
   "outputs": [],
   "source": [
    "# Test whether a number is divisible by 7\n",
    "def is_div7(num):\n",
    "    remainder = num % 7      # get remainder\n",
    "    return remainder == 0    # True if remainder is 0"
   ]
  },
  {
   "cell_type": "code",
   "execution_count": null,
   "metadata": {
    "ExecuteTime": {
     "end_time": "2020-04-11T15:04:08.530453Z",
     "start_time": "2020-04-11T15:04:08.514460Z"
    }
   },
   "outputs": [],
   "source": [
    "is_div7(833)"
   ]
  }
 ],
 "metadata": {
  "kernelspec": {
   "display_name": "Python 3",
   "language": "python",
   "name": "python3"
  },
  "language_info": {
   "codemirror_mode": {
    "name": "ipython",
    "version": 3
   },
   "file_extension": ".py",
   "mimetype": "text/x-python",
   "name": "python",
   "nbconvert_exporter": "python",
   "pygments_lexer": "ipython3",
   "version": "3.7.3"
  }
 },
 "nbformat": 4,
 "nbformat_minor": 2
}
